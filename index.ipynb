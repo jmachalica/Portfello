{
 "cells": [
  {
   "cell_type": "markdown",
   "metadata": {},
   "source": [
    "# PHP 2021"
   ]
  },
  {
   "cell_type": "markdown",
   "metadata": {},
   "source": [
    "## 10.PORTFFELO\n"
   ]
  },
  {
   "cell_type": "markdown",
   "metadata": {},
   "source": [
    "Start database:"
   ]
  },
  {
   "cell_type": "code",
   "execution_count": 1,
   "metadata": {},
   "outputs": [
    {
     "name": "stdout",
     "output_type": "stream",
     "text": [
      "16bef16d670829a81bc1ed68c4dbc25e0034650ef966d00e2dbaa465809e09de\r\n"
     ]
    }
   ],
   "source": [
    "! sudo docker run --name=mysql --net=host --rm --env MYSQL_ROOT_PASSWORD=root123 --env MYSQL_ROOT_HOST=% --env MYSQL_DATABASE=test --env MYSQL_USER=test --env MYSQL_PASSWORD=test123 -d mysql/mysql-server:8.0"
   ]
  },
  {
   "cell_type": "code",
   "execution_count": 2,
   "metadata": {},
   "outputs": [
    {
     "name": "stdout",
     "output_type": "stream",
     "text": [
      "Done.\r\n"
     ]
    }
   ],
   "source": [
    "! while ! timeout 1 bash -c \"echo > /dev/tcp/localhost/3306\" 2> /dev/null; do sleep 1; done; echo \"Done.\";"
   ]
  },
  {
   "cell_type": "markdown",
   "metadata": {},
   "source": [
    "Edit the code:"
   ]
  },
  {
   "cell_type": "code",
   "execution_count": null,
   "metadata": {},
   "outputs": [
    {
     "name": "stdout",
     "output_type": "stream",
     "text": [
      "Starting Laravel development server: http://127.0.0.1:8888\n",
      "[Sun Jan 16 14:04:10 2022] PHP 8.0.10 Development Server (http://127.0.0.1:8888) started\n",
      "\n",
      "(java:176): dbind-\u001b[1;33mWARNING\u001b[0m **: \u001b[34m14:04:20.583\u001b[0m: Couldn't connect to accessibility bus: Failed to connect to socket /tmp/dbus-RzRSkqvZz4: No such file or directory\n",
      "2022-01-16 14:04:38,113 [  22754]   WARN - l.NotificationGroupManagerImpl - Notification group CodeWithMe is already registered (group=com.intellij.notification.NotificationGroup@2e7bf7b7). Plugin descriptor: PluginDescriptor(name=Code With Me, id=com.jetbrains.codeWithMe, descriptorPath=plugin.xml, path=/opt/PhpStorm-212.5080.71/plugins/cwm-plugin, version=212.5080.71, package=null) \n",
      "2022-01-16 14:04:50,241 [  34882]   WARN - .diagnostic.PerformanceWatcher - UI was frozen for 5777ms, details saved to /home/student/.cache/JetBrains/PhpStorm2021.2/log/threadDumps-freeze-20220116-140449-PS-212.5080.71-5sec \n",
      "[JetBrains Runtime] Detected slow X11, switched off alpha compositing of images. Control with -Dremote.x11.workaround={true|false|auto}.\n",
      "2022-01-16 14:05:01,222 [  45863]   WARN - ctionSystem.impl.ActionUpdater - 1255 ms to expand group child null \n",
      "2022-01-16 14:05:01,588 [  46229]   WARN - pl.local.NativeFileWatcherImpl - table error: collision at 1469 (new /home/student/php_2021_portfello/.env/home/cache/JetBrains/PhpStorm2021.2/javascript/typings/lodash/4.14.178, existing /home/student/.cache/JetBrains/PhpStorm2021.2/javascript/typings/lodash/4.14.178) \n",
      "2022-01-16 14:05:01,626 [  46267]   WARN - pl.local.NativeFileWatcherImpl - Watcher terminated with exit code 3 \n",
      "2022-01-16 14:05:01,824 [  46465]   WARN - pl.local.NativeFileWatcherImpl - table error: collision at 2 (new /home/student/php_2021_portfello/.env/home/cache/JetBrains/PhpStorm2021.2/javascript/typings/lodash/4.14.178, existing /home/student/.cache/JetBrains/PhpStorm2021.2/javascript/typings/lodash/4.14.178) \n",
      "2022-01-16 14:05:01,939 [  46580]   WARN - pl.local.NativeFileWatcherImpl - Watcher terminated with exit code 3 \n",
      "2022-01-16 14:05:02,038 [  46679]   WARN - pl.local.NativeFileWatcherImpl - table error: collision at 2 (new /home/student/php_2021_portfello/.env/home/cache/JetBrains/PhpStorm2021.2/javascript/typings/lodash/4.14.178, existing /home/student/.cache/JetBrains/PhpStorm2021.2/javascript/typings/lodash/4.14.178) \n",
      "2022-01-16 14:05:02,140 [  46781]   WARN - pl.local.NativeFileWatcherImpl - Watcher terminated with exit code 3 \n",
      "2022-01-16 14:05:02,383 [  47024]   WARN - pl.local.NativeFileWatcherImpl - table error: collision at 2 (new /home/student/php_2021_portfello/.env/home/cache/JetBrains/PhpStorm2021.2/javascript/typings/lodash/4.14.178, existing /home/student/.cache/JetBrains/PhpStorm2021.2/javascript/typings/lodash/4.14.178) \n",
      "2022-01-16 14:05:02,384 [  47025]   WARN - ctionSystem.impl.ActionUpdater - 1156 ms to expand group child ShowIntentionsGroup \n",
      "2022-01-16 14:05:02,384 [  47025]   WARN - ctionSystem.impl.ActionUpdater - 1583 ms to expand group child CWMTelephonyGroup \n",
      "2022-01-16 14:05:02,561 [  47202]   WARN - ctionSystem.impl.ActionUpdater - 1760 ms to expand group child CodeWithMeNavbarGroup \n",
      "2022-01-16 14:05:02,561 [  47202]   WARN - pl.local.NativeFileWatcherImpl - Watcher terminated with exit code 3 \n",
      "2022-01-16 14:05:02,845 [  47486]   WARN - pl.local.NativeFileWatcherImpl - table error: collision at 2 (new /home/student/php_2021_portfello/.env/home/cache/JetBrains/PhpStorm2021.2/javascript/typings/lodash/4.14.178, existing /home/student/.cache/JetBrains/PhpStorm2021.2/javascript/typings/lodash/4.14.178) \n",
      "2022-01-16 14:05:02,971 [  47612]   WARN - pl.local.NativeFileWatcherImpl - Watcher terminated with exit code 3 \n",
      "2022-01-16 14:05:03,112 [  47753]   WARN - pl.local.NativeFileWatcherImpl - table error: collision at 2 (new /home/student/php_2021_portfello/.env/home/cache/JetBrains/PhpStorm2021.2/javascript/typings/lodash/4.14.178, existing /home/student/.cache/JetBrains/PhpStorm2021.2/javascript/typings/lodash/4.14.178) \n",
      "2022-01-16 14:05:03,243 [  47884]   WARN - pl.local.NativeFileWatcherImpl - Watcher terminated with exit code 3 \n",
      "2022-01-16 14:05:03,408 [  48049]   WARN - pl.local.NativeFileWatcherImpl - table error: collision at 2 (new /home/student/php_2021_portfello/.env/home/cache/JetBrains/PhpStorm2021.2/javascript/typings/lodash/4.14.178, existing /home/student/.cache/JetBrains/PhpStorm2021.2/javascript/typings/lodash/4.14.178) \n",
      "2022-01-16 14:05:03,425 [  48066]   WARN - pl.local.NativeFileWatcherImpl - Watcher terminated with exit code 3 \n",
      "2022-01-16 14:05:03,530 [  48171]   WARN - pl.local.NativeFileWatcherImpl - table error: collision at 2 (new /home/student/php_2021_portfello/.env/home/cache/JetBrains/PhpStorm2021.2/javascript/typings/lodash/4.14.178, existing /home/student/.cache/JetBrains/PhpStorm2021.2/javascript/typings/lodash/4.14.178) \n",
      "2022-01-16 14:05:03,547 [  48188]   WARN - pl.local.NativeFileWatcherImpl - Watcher terminated with exit code 3 \n",
      "2022-01-16 14:05:03,653 [  48294]   WARN - pl.local.NativeFileWatcherImpl - table error: collision at 2 (new /home/student/php_2021_portfello/.env/home/cache/JetBrains/PhpStorm2021.2/javascript/typings/lodash/4.14.178, existing /home/student/.cache/JetBrains/PhpStorm2021.2/javascript/typings/lodash/4.14.178) \n",
      "2022-01-16 14:05:03,668 [  48309]   WARN - pl.local.NativeFileWatcherImpl - Watcher terminated with exit code 3 \n",
      "2022-01-16 14:05:03,801 [  48442]   WARN - pl.local.NativeFileWatcherImpl - table error: collision at 2 (new /home/student/php_2021_portfello/.env/home/cache/JetBrains/PhpStorm2021.2/javascript/typings/lodash/4.14.178, existing /home/student/.cache/JetBrains/PhpStorm2021.2/javascript/typings/lodash/4.14.178) \n",
      "2022-01-16 14:05:03,819 [  48460]   WARN - pl.local.NativeFileWatcherImpl - Watcher terminated with exit code 3 \n",
      "2022-01-16 14:05:03,819 [  48460]   WARN - api.vfs.impl.local.FileWatcher - File watcher failed repeatedly and has been disabled \n",
      "2022-01-16 14:05:07,498 [  52139]   WARN - com.intellij.util.xmlb.Binding - no accessors for com.jetbrains.php.testFramework.PhpTestFrameworkType \n",
      "2022-01-16 14:05:09,022 [  53663]   WARN - ctionSystem.impl.ActionUpdater - 2257 ms to expand group child TabList \n",
      "2022-01-16 14:05:09,022 [  53663]   WARN - ctionSystem.impl.ActionUpdater - 2267 ms to expand group child TabList \n",
      "2022-01-16 14:05:17,606 [  62247]   WARN - ctionSystem.impl.ActionUpdater - Slow (143 ms) `com.intellij.ide.browsers.actions.OpenInBrowserBaseGroupAction$OpenInBrowserEditorContextBarGroupAction#update`. Consider speeding it up and/or implementing UpdateInBackground. \n"
     ]
    }
   ],
   "source": [
    "! phpstorm ../project"
   ]
  },
  {
   "cell_type": "markdown",
   "metadata": {},
   "source": [
    "You can test your solution using included tests:"
   ]
  },
  {
   "cell_type": "code",
   "execution_count": 3,
   "metadata": {},
   "outputs": [
    {
     "name": "stdout",
     "output_type": "stream",
     "text": [
      "/home/student/php_2021_portfello/project\n"
     ]
    }
   ],
   "source": [
    "%cd project"
   ]
  },
  {
   "cell_type": "code",
   "execution_count": 4,
   "metadata": {},
   "outputs": [
    {
     "name": "stdout",
     "output_type": "stream",
     "text": [
      "\u001b[32mInstalling dependencies from lock file (including require-dev)\u001b[39m\n",
      "\u001b[32mVerifying lock file contents can be installed on current platform.\u001b[39m\n",
      "Nothing to install, update or remove\n",
      "\u001b[30;43mPackage swiftmailer/swiftmailer is abandoned, you should avoid using it. Use symfony/mailer instead.\u001b[39;49m\n",
      "\u001b[32mGenerating optimized autoload files\u001b[39m\n",
      "> Illuminate\\Foundation\\ComposerScripts::postAutoloadDump\n",
      "> @php artisan package:discover --ansi\n",
      "Discovered Package: \u001b[32mfacade/ignition\u001b[39m\n",
      "Discovered Package: \u001b[32mfruitcake/laravel-cors\u001b[39m\n",
      "Discovered Package: \u001b[32mintervention/image\u001b[39m\n",
      "Discovered Package: \u001b[32mlaravel/breeze\u001b[39m\n",
      "Discovered Package: \u001b[32mlaravel/sail\u001b[39m\n",
      "Discovered Package: \u001b[32mlaravel/sanctum\u001b[39m\n",
      "Discovered Package: \u001b[32mlaravel/tinker\u001b[39m\n",
      "Discovered Package: \u001b[32mnesbot/carbon\u001b[39m\n",
      "Discovered Package: \u001b[32mnunomaduro/collision\u001b[39m\n",
      "\u001b[32mPackage manifest generated successfully.\u001b[39m\n",
      "\u001b[32m82 packages you are using are looking for funding.\u001b[39m\n",
      "\u001b[32mUse the `composer fund` command to find out more!\u001b[39m\n"
     ]
    }
   ],
   "source": [
    "! composer install"
   ]
  },
  {
   "cell_type": "code",
   "execution_count": 5,
   "metadata": {},
   "outputs": [],
   "source": [
    "! cp .env.example .env"
   ]
  },
  {
   "cell_type": "code",
   "execution_count": 6,
   "metadata": {},
   "outputs": [
    {
     "name": "stdout",
     "output_type": "stream",
     "text": [
      "\u001b[32mApplication key set successfully.\u001b[39m\r\n"
     ]
    }
   ],
   "source": [
    "! php artisan key:generate"
   ]
  },
  {
   "cell_type": "code",
   "execution_count": 7,
   "metadata": {},
   "outputs": [
    {
     "name": "stdout",
     "output_type": "stream",
     "text": [
      "\u001b[32mDropped all tables successfully.\u001b[39m\n",
      "\u001b[32mMigration table created successfully.\u001b[39m\n",
      "\u001b[33mMigrating:\u001b[39m 2014_10_12_000000_create_users_table\n",
      "\u001b[32mMigrated:\u001b[39m  2014_10_12_000000_create_users_table (87.14ms)\n",
      "\u001b[33mMigrating:\u001b[39m 2014_10_12_100000_create_password_resets_table\n",
      "\u001b[32mMigrated:\u001b[39m  2014_10_12_100000_create_password_resets_table (63.66ms)\n",
      "\u001b[33mMigrating:\u001b[39m 2019_08_19_000000_create_failed_jobs_table\n",
      "\u001b[32mMigrated:\u001b[39m  2019_08_19_000000_create_failed_jobs_table (54.13ms)\n",
      "\u001b[33mMigrating:\u001b[39m 2019_12_14_000001_create_personal_access_tokens_table\n",
      "\u001b[32mMigrated:\u001b[39m  2019_12_14_000001_create_personal_access_tokens_table (107.99ms)\n",
      "\u001b[33mMigrating:\u001b[39m 2022_01_08_194834_create_groups_table\n",
      "\u001b[32mMigrated:\u001b[39m  2022_01_08_194834_create_groups_table (42.70ms)\n",
      "\u001b[33mMigrating:\u001b[39m 2022_01_08_195804_create_group_user_table\n",
      "\u001b[32mMigrated:\u001b[39m  2022_01_08_195804_create_group_user_table (370.80ms)\n",
      "\u001b[33mMigrating:\u001b[39m 2022_01_08_203000_create_expenses_table\n",
      "\u001b[32mMigrated:\u001b[39m  2022_01_08_203000_create_expenses_table (99.23ms)\n",
      "\u001b[33mMigrating:\u001b[39m 2022_01_08_210450_create_expenses_user_table\n",
      "\u001b[32mMigrated:\u001b[39m  2022_01_08_210450_create_expenses_user_table (281.51ms)\n"
     ]
    }
   ],
   "source": [
    "! php artisan migrate:fresh"
   ]
  },
  {
   "cell_type": "code",
   "execution_count": 8,
   "metadata": {},
   "outputs": [
    {
     "name": "stdout",
     "output_type": "stream",
     "text": [
      "\u001b[32mDatabase seeding completed successfully.\u001b[39m\r\n"
     ]
    }
   ],
   "source": [
    "! php artisan db:seed"
   ]
  },
  {
   "cell_type": "code",
   "execution_count": 9,
   "metadata": {},
   "outputs": [
    {
     "name": "stdout",
     "output_type": "stream",
     "text": [
      "mysqldump: [Warning] Using a password on the command line interface can be insecure.\r\n"
     ]
    }
   ],
   "source": [
    "! mysqldump -h127.0.0.1 -u root --password=root123 test > tests_codeception/_data/dump.sql"
   ]
  },
  {
   "cell_type": "code",
   "execution_count": 10,
   "metadata": {},
   "outputs": [
    {
     "name": "stdout",
     "output_type": "stream",
     "text": [
      "PHPUnit 9.5.11 by Sebastian Bergmann and contributors.\n",
      "\n",
      ".................                                                 17 / 17 (100%)\n",
      "\n",
      "Time: 00:03.256, Memory: 38.00 MB\n",
      "\n",
      "\u001b[30;42mOK (17 tests, 27 assertions)\u001b[0m\n"
     ]
    }
   ],
   "source": [
    "! vendor/bin/phpunit"
   ]
  },
  {
   "cell_type": "code",
   "execution_count": 11,
   "metadata": {},
   "outputs": [],
   "source": [
    "import subprocess\n",
    "artisanServe = subprocess.Popen(['php', 'artisan', 'serve', '--port', '8888'])"
   ]
  },
  {
   "cell_type": "code",
   "execution_count": 13,
   "metadata": {},
   "outputs": [
    {
     "name": "stdout",
     "output_type": "stream",
     "text": [
      "Starting Laravel development server: http://127.0.0.1:8888\n",
      "[Mon Jan  3 13:22:42 2022] PHP 8.0.10 Development Server (http://127.0.0.1:8888) started\n",
      "Codeception PHP Testing Framework v4.1.22\n",
      "Powered by PHPUnit 9.5.10 by Sebastian Bergmann and contributors.\n",
      "\n",
      "\u001b[1mAcceptance Tests (4) \u001b[22m-----------------------------------------------------------\n",
      "- \u001b[35;1m01_HomepageCept:\u001b[39;22m See Laravel links on homepage[Mon Jan  3 13:23:02 2022] 127.0.0.1:33318 Accepted\n",
      "[Mon Jan  3 13:23:03 2022] 127.0.0.1:33318 Closing\n",
      "\u001b[32;1m✔\u001b[39;22m \u001b[35;1m01_HomepageCept:\u001b[39;22m See Laravel links on homepage \u001b[32m(0.83s)\u001b[39m\n",
      "\u001b[32;1m✔\u001b[39;22m \u001b[35;1m02_CommentsCept:\u001b[39;22m See comments from DB displayed on page \u001b[32m(0.48s)\u001b[39m\n",
      "- \u001b[35;1m03_LoginCept:\u001b[39;22m Login with existing user[Mon Jan  3 13:23:17 2022] 127.0.0.1:33322 Accepted\n",
      "[Mon Jan  3 13:23:17 2022] 127.0.0.1:33322 Closing\n",
      "[Mon Jan  3 13:23:17 2022] 127.0.0.1:33328 Accepted\n",
      "[Mon Jan  3 13:23:18 2022] 127.0.0.1:33328 Closing\n",
      "[Mon Jan  3 13:23:22 2022] 127.0.0.1:33334 Accepted\n",
      "[Mon Jan  3 13:23:22 2022] 127.0.0.1:33334 Closing\n",
      "[Mon Jan  3 13:23:22 2022] 127.0.0.1:33338 Accepted\n",
      "[Mon Jan  3 13:23:22 2022] 127.0.0.1:33338 Closing\n",
      "[Mon Jan  3 13:23:22 2022] 127.0.0.1:33342 Accepted\n",
      "[Mon Jan  3 13:23:22 2022] 127.0.0.1:33342 Closing\n",
      "[Mon Jan  3 13:23:22 2022] 127.0.0.1:33348 Accepted\n",
      "\u001b[32;1m✔\u001b[39;22m \u001b[35;1m03_LoginCept:\u001b[39;22m Login with existing user \u001b[32m(1.02s)\u001b[39m\n",
      "- \u001b[35;1m04_BooksCept:\u001b[39;22m Have books page[Mon Jan  3 13:23:23 2022] 127.0.0.1:33348 Closing\n",
      "[Mon Jan  3 13:23:30 2022] 127.0.0.1:33358 Accepted\n",
      "[Mon Jan  3 13:23:31 2022] 127.0.0.1:33358 Closing\n",
      "[Mon Jan  3 13:23:31 2022] 127.0.0.1:33362 Accepted\n",
      "[Mon Jan  3 13:23:31 2022] 127.0.0.1:33362 Closing\n",
      "[Mon Jan  3 13:23:31 2022] 127.0.0.1:33366 Accepted\n",
      "[Mon Jan  3 13:23:31 2022] 127.0.0.1:33366 Closing\n",
      "[Mon Jan  3 13:23:31 2022] 127.0.0.1:33372 Accepted\n",
      "[Mon Jan  3 13:23:31 2022] 127.0.0.1:33372 Closing\n",
      "[Mon Jan  3 13:23:31 2022] 127.0.0.1:33378 Accepted\n",
      "[Mon Jan  3 13:23:31 2022] 127.0.0.1:33378 Closing\n",
      "[Mon Jan  3 13:23:31 2022] 127.0.0.1:33384 Accepted\n",
      "[Mon Jan  3 13:23:32 2022] 127.0.0.1:33384 Closing\n",
      "[Mon Jan  3 13:23:32 2022] 127.0.0.1:33390 Accepted\n",
      "[Mon Jan  3 13:23:32 2022] 127.0.0.1:33390 Closing\n",
      "[Mon Jan  3 13:23:32 2022] 127.0.0.1:33396 Accepted\n",
      "[Mon Jan  3 13:23:32 2022] 127.0.0.1:33396 Closing\n",
      "[Mon Jan  3 13:23:32 2022] 127.0.0.1:33402 Accepted\n",
      "[Mon Jan  3 13:23:32 2022] 127.0.0.1:33402 Closing\n",
      "[Mon Jan  3 13:23:32 2022] 127.0.0.1:33408 Accepted\n",
      "[Mon Jan  3 13:23:33 2022] 127.0.0.1:33408 Closing\n",
      "[Mon Jan  3 13:23:33 2022] 127.0.0.1:33414 Accepted\n",
      "[Mon Jan  3 13:23:33 2022] 127.0.0.1:33414 Closing\n",
      "[Mon Jan  3 13:23:33 2022] 127.0.0.1:33420 Accepted\n",
      "[Mon Jan  3 13:23:33 2022] 127.0.0.1:33420 Closing\n",
      "[Mon Jan  3 13:23:33 2022] 127.0.0.1:33426 Accepted\n",
      "[Mon Jan  3 13:23:34 2022] 127.0.0.1:33426 Closing\n",
      "[Mon Jan  3 13:23:34 2022] 127.0.0.1:33432 Accepted\n",
      "[Mon Jan  3 13:23:34 2022] 127.0.0.1:33432 Closing\n",
      "[Mon Jan  3 13:23:34 2022] 127.0.0.1:33438 Accepted\n",
      "[Mon Jan  3 13:23:34 2022] 127.0.0.1:33438 Closing\n",
      "[Mon Jan  3 13:23:34 2022] 127.0.0.1:33444 Accepted\n",
      "[Mon Jan  3 13:23:34 2022] 127.0.0.1:33444 Closing\n",
      "[Mon Jan  3 13:23:34 2022] 127.0.0.1:33450 Accepted\n",
      "[Mon Jan  3 13:23:35 2022] 127.0.0.1:33450 Closing\n",
      "[Mon Jan  3 13:23:35 2022] 127.0.0.1:33456 Accepted\n",
      "[Mon Jan  3 13:23:35 2022] 127.0.0.1:33456 Closing\n",
      "[Mon Jan  3 13:23:35 2022] 127.0.0.1:33462 Accepted\n",
      "[Mon Jan  3 13:23:35 2022] 127.0.0.1:33462 Closing\n",
      "[Mon Jan  3 13:23:35 2022] 127.0.0.1:33468 Accepted\n",
      "\u001b[32;1m✔\u001b[39;22m \u001b[35;1m04_BooksCept:\u001b[39;22m Have books page \u001b[32m(4.87s)\u001b[39m\n",
      "--------------------------------------------------------------------------------\n",
      "\u001b[33m20x DEPRECATION: \u001b[39m\u001b[1mSince symfony/dom-crawler 5.3: The Symfony\\Component\\DomCrawler\\Crawler::parents() method is deprecated, use ancestors() instead.\u001b[22m\u001b[33m \u001b[39m\u001b[32m/home/student/php_2021_jakub_machalica/10_laravel_tdd/project/vendor/symfony/deprecation-contracts/function.php:25\u001b[39m\n",
      "\n",
      "\n",
      "Time: 00:52.120, Memory: 14.00 MB\n",
      "\n",
      "\u001b[30;42mOK (4 tests, 52 assertions)\u001b[0m\n",
      "[Mon Jan  3 13:23:35 2022] 127.0.0.1:33468 Closing\n"
     ]
    }
   ],
   "source": [
    "! vendor/bin/codecept run"
   ]
  },
  {
   "cell_type": "code",
   "execution_count": null,
   "metadata": {},
   "outputs": [],
   "source": [
    "! killall php php8.0"
   ]
  },
  {
   "cell_type": "code",
   "execution_count": 49,
   "metadata": {},
   "outputs": [
    {
     "name": "stdout",
     "output_type": "stream",
     "text": [
      "/home/student/portfello\n"
     ]
    }
   ],
   "source": [
    "%cd .."
   ]
  },
  {
   "cell_type": "markdown",
   "metadata": {},
   "source": [
    "Stop database:"
   ]
  },
  {
   "cell_type": "code",
   "execution_count": 34,
   "metadata": {},
   "outputs": [
    {
     "name": "stdout",
     "output_type": "stream",
     "text": [
      "mysql\r\n"
     ]
    }
   ],
   "source": [
    "! sudo docker container stop mysql"
   ]
  }
 ],
 "metadata": {
  "kernelspec": {
   "display_name": "Python 3 (ipykernel)",
   "language": "python",
   "name": "python3"
  },
  "language_info": {
   "codemirror_mode": {
    "name": "ipython",
    "version": 3
   },
   "file_extension": ".py",
   "mimetype": "text/x-python",
   "name": "python",
   "nbconvert_exporter": "python",
   "pygments_lexer": "ipython3",
   "version": "3.9.5"
  }
 },
 "nbformat": 4,
 "nbformat_minor": 4
}
