{
 "cells": [
  {
   "cell_type": "markdown",
   "metadata": {},
   "source": [
    "# PHP 2021"
   ]
  },
  {
   "cell_type": "markdown",
   "metadata": {},
   "source": [
    "## 10.PORTFFELO\n"
   ]
  },
  {
   "cell_type": "markdown",
   "metadata": {},
   "source": [
    "Start database:"
   ]
  },
  {
   "cell_type": "code",
   "execution_count": 1,
   "metadata": {},
   "outputs": [
    {
     "name": "stdout",
     "output_type": "stream",
     "text": [
      "a6a68ae1c5060858757ee578f468631232b409a7480e2e5f8c3e94a8d84c41d4\r\n"
     ]
    }
   ],
   "source": [
    "! sudo docker run --name=mysql --net=host --rm --env MYSQL_ROOT_PASSWORD=root123 --env MYSQL_ROOT_HOST=% --env MYSQL_DATABASE=test --env MYSQL_USER=test --env MYSQL_PASSWORD=test123 -d mysql/mysql-server:8.0"
   ]
  },
  {
   "cell_type": "code",
   "execution_count": 2,
   "metadata": {},
   "outputs": [
    {
     "name": "stdout",
     "output_type": "stream",
     "text": [
      "Done.\r\n"
     ]
    }
   ],
   "source": [
    "! while ! timeout 1 bash -c \"echo > /dev/tcp/localhost/3306\" 2> /dev/null; do sleep 1; done; echo \"Done.\";"
   ]
  },
  {
   "cell_type": "markdown",
   "metadata": {},
   "source": [
    "Edit the code:"
   ]
  },
  {
   "cell_type": "code",
   "execution_count": null,
   "metadata": {},
   "outputs": [
    {
     "name": "stdout",
     "output_type": "stream",
     "text": [
      "Starting Laravel development server: http://127.0.0.1:8888\n",
      "[Sat Jan 22 13:37:39 2022] PHP 8.0.10 Development Server (http://127.0.0.1:8888) started\n",
      "\n",
      "(java:180): dbind-\u001b[1;33mWARNING\u001b[0m **: \u001b[34m13:37:49.182\u001b[0m: Couldn't connect to accessibility bus: Failed to connect to socket /tmp/dbus-0QjcJ6obHY: No such file or directory\n",
      "2022-01-22 13:38:12,279 [  27931]   WARN - l.NotificationGroupManagerImpl - Notification group CodeWithMe is already registered (group=com.intellij.notification.NotificationGroup@2abafa97). Plugin descriptor: PluginDescriptor(name=Code With Me, id=com.jetbrains.codeWithMe, descriptorPath=plugin.xml, path=/opt/PhpStorm-212.5080.71/plugins/cwm-plugin, version=212.5080.71, package=null) \n",
      "2022-01-22 13:38:35,824 [  51476]   WARN - .diagnostic.PerformanceWatcher - UI was frozen for 14968ms, details saved to /home/student/.cache/JetBrains/PhpStorm2021.2/log/threadDumps-freeze-20220122-133825-PS-212.5080.71-14sec \n",
      "2022-01-22 13:38:41,459 [  57111]   WARN - ctionSystem.impl.ActionUpdater - Slow (233 ms) `com.jetbrains.rd.platform.codeWithMe.telephony.CWMTelephonyGroup#update`. Consider speeding it up and/or implementing UpdateInBackground. \n",
      "2022-01-22 13:38:42,874 [  58526]   WARN - ctionSystem.impl.ActionUpdater - 1340 ms to expand group child OpenFile \n",
      "2022-01-22 13:38:42,914 [  58566]   WARN - ctionSystem.impl.ActionUpdater - Slow (120 ms) `com.intellij.openapi.wm.impl.ToolWindowHeader$1#getChildren`. Consider speeding it up and/or implementing UpdateInBackground. \n",
      "[JetBrains Runtime] Detected slow X11, switched off alpha compositing of images. Control with -Dremote.x11.workaround={true|false|auto}.\n",
      "2022-01-22 13:38:56,908 [  72560]   WARN - .diagnostic.PerformanceWatcher - UI was frozen for 7378ms, details saved to /home/student/.cache/JetBrains/PhpStorm2021.2/log/threadDumps-freeze-20220122-133854-PS-212.5080.71-7sec \n",
      "2022-01-22 13:38:58,408 [  74060]   WARN - com.intellij.util.xmlb.Binding - no accessors for com.jetbrains.php.testFramework.PhpTestFrameworkType \n",
      "2022-01-22 13:39:07,014 [  82666]   WARN - ctionSystem.impl.ActionUpdater - 7428 ms to expand group child NewDirectoryProject \n",
      "2022-01-22 13:39:07,015 [  82667]   WARN - ctionSystem.impl.ActionUpdater - 7429 ms to expand group child NewProjectOrModuleGroup \n",
      "2022-01-22 13:39:07,015 [  82667]   WARN - ctionSystem.impl.ActionUpdater - 7430 ms to expand group child PlatformOpenProjectGroup \n",
      "2022-01-22 13:39:07,015 [  82667]   WARN - ctionSystem.impl.ActionUpdater - 7430 ms to expand group child FileOpenGroup \n",
      "2022-01-22 13:39:07,015 [  82667]   WARN - ctionSystem.impl.ActionUpdater - 8474 ms to expand group child CWMTelephonyGroup \n",
      "2022-01-22 13:39:07,015 [  82667]   WARN - ctionSystem.impl.ActionUpdater - 8475 ms to expand group child CodeWithMeNavbarGroup \n",
      "2022-01-22 13:39:07,546 [  83198]   WARN - .diagnostic.PerformanceWatcher - UI was frozen for 6588ms, details saved to /home/student/.cache/JetBrains/PhpStorm2021.2/log/threadDumps-freeze-20220122-133905-PS-212.5080.71-6sec \n",
      "2022-01-22 13:39:09,400 [  85052]   WARN - pl.local.NativeFileWatcherImpl - table error: collision at 3720 (new /home/student/php_2021_portfello/.env/home/cache/JetBrains/PhpStorm2021.2/javascript/typings/lodash/4.14.178, existing /home/student/.cache/JetBrains/PhpStorm2021.2/javascript/typings/lodash/4.14.178) \n",
      "2022-01-22 13:39:09,443 [  85095]   WARN - pl.local.NativeFileWatcherImpl - Watcher terminated with exit code 3 \n",
      "2022-01-22 13:39:09,502 [  85154]   WARN - ctionSystem.impl.ActionUpdater - 1819 ms to expand group child TabList \n",
      "2022-01-22 13:39:09,503 [  85155]   WARN - ctionSystem.impl.ActionUpdater - 1819 ms to expand group child TabList \n",
      "2022-01-22 13:39:09,787 [  85439]   WARN - pl.local.NativeFileWatcherImpl - table error: collision at 2 (new /home/student/php_2021_portfello/.env/home/cache/JetBrains/PhpStorm2021.2/javascript/typings/lodash/4.14.178, existing /home/student/.cache/JetBrains/PhpStorm2021.2/javascript/typings/lodash/4.14.178) \n",
      "2022-01-22 13:39:09,790 [  85442]   WARN - pl.local.NativeFileWatcherImpl - Watcher terminated with exit code 3 \n",
      "2022-01-22 13:39:10,094 [  85746]   WARN - pl.local.NativeFileWatcherImpl - table error: collision at 2 (new /home/student/php_2021_portfello/.env/home/cache/JetBrains/PhpStorm2021.2/javascript/typings/lodash/4.14.178, existing /home/student/.cache/JetBrains/PhpStorm2021.2/javascript/typings/lodash/4.14.178) \n",
      "2022-01-22 13:39:10,155 [  85807]   WARN - pl.local.NativeFileWatcherImpl - Watcher terminated with exit code 3 \n",
      "2022-01-22 13:39:10,604 [  86256]   WARN - pl.local.NativeFileWatcherImpl - table error: collision at 2 (new /home/student/php_2021_portfello/.env/home/cache/JetBrains/PhpStorm2021.2/javascript/typings/lodash/4.14.178, existing /home/student/.cache/JetBrains/PhpStorm2021.2/javascript/typings/lodash/4.14.178) \n",
      "2022-01-22 13:39:10,633 [  86285]   WARN - pl.local.NativeFileWatcherImpl - Watcher terminated with exit code 3 \n",
      "2022-01-22 13:39:10,935 [  86587]   WARN - pl.local.NativeFileWatcherImpl - table error: collision at 2 (new /home/student/php_2021_portfello/.env/home/cache/JetBrains/PhpStorm2021.2/javascript/typings/lodash/4.14.178, existing /home/student/.cache/JetBrains/PhpStorm2021.2/javascript/typings/lodash/4.14.178) \n",
      "2022-01-22 13:39:10,995 [  86647]   WARN - pl.local.NativeFileWatcherImpl - Watcher terminated with exit code 3 \n",
      "2022-01-22 13:39:11,287 [  86939]   WARN - pl.local.NativeFileWatcherImpl - table error: collision at 2 (new /home/student/php_2021_portfello/.env/home/cache/JetBrains/PhpStorm2021.2/javascript/typings/lodash/4.14.178, existing /home/student/.cache/JetBrains/PhpStorm2021.2/javascript/typings/lodash/4.14.178) \n",
      "2022-01-22 13:39:11,300 [  86952]   WARN - ctionSystem.impl.ActionUpdater - 1343 ms to expand group child TabList \n",
      "2022-01-22 13:39:11,301 [  86953]   WARN - ctionSystem.impl.ActionUpdater - 1345 ms to expand group child TabList \n",
      "2022-01-22 13:39:11,342 [  86994]   WARN - pl.local.NativeFileWatcherImpl - Watcher terminated with exit code 3 \n",
      "2022-01-22 13:39:11,615 [  87267]   WARN - pl.local.NativeFileWatcherImpl - table error: collision at 2 (new /home/student/php_2021_portfello/.env/home/cache/JetBrains/PhpStorm2021.2/javascript/typings/lodash/4.14.178, existing /home/student/.cache/JetBrains/PhpStorm2021.2/javascript/typings/lodash/4.14.178) \n",
      "2022-01-22 13:39:11,643 [  87295]   WARN - pl.local.NativeFileWatcherImpl - Watcher terminated with exit code 3 \n",
      "2022-01-22 13:39:11,981 [  87633]   WARN - pl.local.NativeFileWatcherImpl - table error: collision at 2 (new /home/student/php_2021_portfello/.env/home/cache/JetBrains/PhpStorm2021.2/javascript/typings/lodash/4.14.178, existing /home/student/.cache/JetBrains/PhpStorm2021.2/javascript/typings/lodash/4.14.178) \n",
      "2022-01-22 13:39:11,987 [  87639]   WARN - pl.local.NativeFileWatcherImpl - Watcher terminated with exit code 3 \n",
      "2022-01-22 13:39:12,226 [  87878]   WARN - pl.local.NativeFileWatcherImpl - table error: collision at 2 (new /home/student/php_2021_portfello/.env/home/cache/JetBrains/PhpStorm2021.2/javascript/typings/lodash/4.14.178, existing /home/student/.cache/JetBrains/PhpStorm2021.2/javascript/typings/lodash/4.14.178) \n",
      "2022-01-22 13:39:12,263 [  87915]   WARN - pl.local.NativeFileWatcherImpl - Watcher terminated with exit code 3 \n",
      "2022-01-22 13:39:12,512 [  88164]   WARN - pl.local.NativeFileWatcherImpl - table error: collision at 2 (new /home/student/php_2021_portfello/.env/home/cache/JetBrains/PhpStorm2021.2/javascript/typings/lodash/4.14.178, existing /home/student/.cache/JetBrains/PhpStorm2021.2/javascript/typings/lodash/4.14.178) \n",
      "2022-01-22 13:39:12,546 [  88198]   WARN - pl.local.NativeFileWatcherImpl - Watcher terminated with exit code 3 \n",
      "2022-01-22 13:39:12,548 [  88200]   WARN - api.vfs.impl.local.FileWatcher - File watcher failed repeatedly and has been disabled \n",
      "2022-01-22 13:39:19,012 [  94664]   WARN - ctionSystem.impl.ActionUpdater - 1087 ms to expand group child $Redo \n",
      "2022-01-22 13:39:19,808 [  95460]   WARN - ctionSystem.impl.ActionUpdater - 1994 ms to expand group child FileOpenGroup \n",
      "2022-01-22 13:39:20,600 [  96252]   WARN - ctionSystem.impl.ActionUpdater - Slow (103 ms) `com.intellij.database.actions.EditAsTableAction#update`. Consider speeding it up and/or implementing UpdateInBackground. \n"
     ]
    },
    {
     "name": "stdout",
     "output_type": "stream",
     "text": [
      "2022-01-22 13:39:23,785 [  99437]   WARN - ctionSystem.impl.ActionUpdater - Slow (182 ms) `com.intellij.ide.actions.GotoSymbolAction#update`. Consider speeding it up and/or implementing UpdateInBackground. \n",
      "2022-01-22 13:39:24,080 [  99732]   WARN - ctionSystem.impl.ActionUpdater - Slow (208 ms) `com.intellij.database.actions.GotoDatabaseObjectAction#update`. Consider speeding it up and/or implementing UpdateInBackground. \n",
      "2022-01-22 13:39:24,081 [  99733]   WARN - ctionSystem.impl.ActionUpdater - 1527 ms to expand group child GoToTargetEx \n",
      "2022-01-22 13:39:24,200 [  99852]   WARN - ctionSystem.impl.ActionUpdater - Slow (117 ms) `com.intellij.ide.browsers.actions.OpenInBrowserBaseGroupAction$OpenInBrowserGroupAction#getChildren`. Consider speeding it up and/or implementing UpdateInBackground. \n",
      "2022-01-22 13:39:25,824 [ 101476]   WARN - ctionSystem.impl.ActionUpdater - 1272 ms to expand group child CodeMenu \n",
      "2022-01-22 13:39:25,836 [ 101488]   WARN - ctionSystem.impl.ActionUpdater - 1257 ms to expand group child GoToCodeGroup \n",
      "2022-01-22 13:39:27,734 [ 103386]   WARN - ctionSystem.impl.ActionUpdater - Slow (129 ms) `com.intellij.xdebugger.impl.actions.StepOverAction#update`. Consider speeding it up and/or implementing UpdateInBackground. \n",
      "2022-01-22 13:39:29,298 [ 104950]   WARN - ctionSystem.impl.ActionUpdater - Slow (198 ms) `com.jetbrains.php.framework.FrameworkRunAnythingActionDelegate#update`. Consider speeding it up and/or implementing UpdateInBackground. \n",
      "2022-01-22 13:39:33,030 [ 108682]   WARN - ctionSystem.impl.ActionUpdater - 1189 ms to expand group child EditorLangPopupMenu \n",
      "2022-01-22 13:39:33,035 [ 108687]   WARN - ctionSystem.impl.ActionUpdater - 1197 ms to expand group child EditorLangPopupMenu \n",
      "2022-01-22 13:39:35,547 [ 111199]   WARN - ctionSystem.impl.ActionUpdater - 1057 ms to expand group child RunContextGroupInner \n",
      "2022-01-22 13:39:35,782 [ 111434]   WARN - ctionSystem.impl.ActionUpdater - 1291 ms to expand group child RunContextGroup \n",
      "2022-01-22 13:39:35,791 [ 111443]   WARN - ctionSystem.impl.ActionUpdater - 1300 ms to expand group child RunContextPopupGroup \n",
      "2022-01-22 13:39:35,792 [ 111444]   WARN - ctionSystem.impl.ActionUpdater - 1302 ms to expand group child EditorPopupMenu.Run \n",
      "2022-01-22 13:39:35,837 [ 111489]   WARN - ctionSystem.impl.ActionUpdater - 1362 ms to expand group child EditorLangPopupMenu \n",
      "[Sat Jan 22 13:45:02 2022] 127.0.0.1:39734 Accepted\n",
      "[Sat Jan 22 13:45:02 2022] 127.0.0.1:39734 Closing\n",
      "[Sat Jan 22 13:45:04 2022] 127.0.0.1:39738 Accepted\n",
      "[Sat Jan 22 13:45:04 2022] 127.0.0.1:39738 Closing\n",
      "[Sat Jan 22 13:45:04 2022] 127.0.0.1:39742 Accepted\n",
      "[Sat Jan 22 13:45:04 2022] 127.0.0.1:39742 Closing\n",
      "[Sat Jan 22 13:45:04 2022] 127.0.0.1:39746 Accepted\n",
      "[Sat Jan 22 13:45:05 2022] 127.0.0.1:39746 Closing\n",
      "[Sat Jan 22 13:45:05 2022] 127.0.0.1:39752 Accepted\n",
      "[Sat Jan 22 13:45:05 2022] 127.0.0.1:39752 Closing\n",
      "[Sat Jan 22 13:45:05 2022] 127.0.0.1:39758 Accepted\n",
      "[Sat Jan 22 13:45:05 2022] 127.0.0.1:39758 Closing\n",
      "[Sat Jan 22 13:45:05 2022] 127.0.0.1:39764 Accepted\n",
      "[Sat Jan 22 13:45:05 2022] 127.0.0.1:39764 Closing\n",
      "[Sat Jan 22 13:45:05 2022] 127.0.0.1:39770 Accepted\n",
      "[Sat Jan 22 13:45:05 2022] 127.0.0.1:39770 Closing\n",
      "[Sat Jan 22 13:45:05 2022] 127.0.0.1:39776 Accepted\n",
      "[Sat Jan 22 13:45:06 2022] 127.0.0.1:39776 Closing\n",
      "[Sat Jan 22 13:45:07 2022] 127.0.0.1:39782 Accepted\n",
      "[Sat Jan 22 13:45:07 2022] 127.0.0.1:39782 Closing\n",
      "[Sat Jan 22 13:45:07 2022] 127.0.0.1:39786 Accepted\n",
      "[Sat Jan 22 13:45:07 2022] 127.0.0.1:39786 Closing\n",
      "[Sat Jan 22 13:45:07 2022] 127.0.0.1:39790 Accepted\n",
      "[Sat Jan 22 13:45:07 2022] 127.0.0.1:39790 Closing\n",
      "[Sat Jan 22 13:45:07 2022] 127.0.0.1:39796 Accepted\n",
      "[Sat Jan 22 13:45:07 2022] 127.0.0.1:39796 Closing\n",
      "[Sat Jan 22 13:45:07 2022] 127.0.0.1:39802 Accepted\n",
      "[Sat Jan 22 13:45:07 2022] 127.0.0.1:39802 Closing\n",
      "[Sat Jan 22 13:45:07 2022] 127.0.0.1:39808 Accepted\n",
      "[Sat Jan 22 13:45:07 2022] 127.0.0.1:39808 Closing\n",
      "[Sat Jan 22 13:45:07 2022] 127.0.0.1:39814 Accepted\n",
      "[Sat Jan 22 13:45:08 2022] 127.0.0.1:39814 Closing\n",
      "[Sat Jan 22 13:45:08 2022] 127.0.0.1:39820 Accepted\n",
      "[Sat Jan 22 13:45:08 2022] 127.0.0.1:39820 Closing\n",
      "[Sat Jan 22 13:45:09 2022] 127.0.0.1:39826 Accepted\n",
      "[Sat Jan 22 13:45:09 2022] 127.0.0.1:39826 Closing\n",
      "[Sat Jan 22 13:45:09 2022] 127.0.0.1:39830 Accepted\n",
      "[Sat Jan 22 13:45:09 2022] 127.0.0.1:39830 Closing\n",
      "[Sat Jan 22 13:45:09 2022] 127.0.0.1:39834 Accepted\n",
      "[Sat Jan 22 13:45:09 2022] 127.0.0.1:39834 Closing\n",
      "[Sat Jan 22 13:45:09 2022] 127.0.0.1:39840 Accepted\n",
      "[Sat Jan 22 13:45:10 2022] 127.0.0.1:39840 Closing\n",
      "[Sat Jan 22 13:45:10 2022] 127.0.0.1:39846 Accepted\n",
      "[Sat Jan 22 13:45:10 2022] 127.0.0.1:39846 Closing\n",
      "[Sat Jan 22 13:45:10 2022] 127.0.0.1:39852 Accepted\n",
      "[Sat Jan 22 13:45:10 2022] 127.0.0.1:39852 Closing\n",
      "[Sat Jan 22 13:45:10 2022] 127.0.0.1:39858 Accepted\n",
      "[Sat Jan 22 13:45:10 2022] 127.0.0.1:39858 Closing\n",
      "[Sat Jan 22 13:45:10 2022] 127.0.0.1:39864 Accepted\n",
      "[Sat Jan 22 13:45:10 2022] 127.0.0.1:39864 Closing\n",
      "[Sat Jan 22 13:45:11 2022] 127.0.0.1:39870 Accepted\n",
      "[Sat Jan 22 13:45:11 2022] 127.0.0.1:39870 Closing\n",
      "[Sat Jan 22 13:45:11 2022] 127.0.0.1:39874 Accepted\n",
      "[Sat Jan 22 13:45:11 2022] 127.0.0.1:39874 Closing\n",
      "[Sat Jan 22 13:45:11 2022] 127.0.0.1:39878 Accepted\n",
      "[Sat Jan 22 13:45:12 2022] 127.0.0.1:39878 Closing\n",
      "[Sat Jan 22 13:45:12 2022] 127.0.0.1:39884 Accepted\n",
      "[Sat Jan 22 13:45:12 2022] 127.0.0.1:39884 Closing\n",
      "[Sat Jan 22 13:45:12 2022] 127.0.0.1:39890 Accepted\n",
      "[Sat Jan 22 13:45:12 2022] 127.0.0.1:39890 Closing\n",
      "[Sat Jan 22 13:45:12 2022] 127.0.0.1:39896 Accepted\n",
      "[Sat Jan 22 13:45:12 2022] 127.0.0.1:39896 Closing\n",
      "[Sat Jan 22 13:45:12 2022] 127.0.0.1:39902 Accepted\n",
      "[Sat Jan 22 13:45:12 2022] 127.0.0.1:39902 Closing\n",
      "[Sat Jan 22 13:45:12 2022] 127.0.0.1:39908 Accepted\n",
      "[Sat Jan 22 13:45:12 2022] 127.0.0.1:39908 Closing\n",
      "[Sat Jan 22 13:45:14 2022] 127.0.0.1:39914 Accepted\n",
      "[Sat Jan 22 13:45:14 2022] 127.0.0.1:39914 Closing\n",
      "[Sat Jan 22 13:45:14 2022] 127.0.0.1:39918 Accepted\n",
      "[Sat Jan 22 13:45:14 2022] 127.0.0.1:39918 Closing\n",
      "[Sat Jan 22 13:45:14 2022] 127.0.0.1:39922 Accepted\n",
      "[Sat Jan 22 13:45:14 2022] 127.0.0.1:39922 Closing\n",
      "[Sat Jan 22 13:45:14 2022] 127.0.0.1:39928 Accepted\n",
      "[Sat Jan 22 13:45:14 2022] 127.0.0.1:39928 Closing\n",
      "[Sat Jan 22 13:45:14 2022] 127.0.0.1:39934 Accepted\n",
      "[Sat Jan 22 13:45:14 2022] 127.0.0.1:39934 Closing\n",
      "[Sat Jan 22 13:45:14 2022] 127.0.0.1:39940 Accepted\n",
      "[Sat Jan 22 13:45:14 2022] 127.0.0.1:39940 Closing\n",
      "[Sat Jan 22 13:45:14 2022] 127.0.0.1:39946 Accepted\n",
      "[Sat Jan 22 13:45:14 2022] 127.0.0.1:39946 Closing\n",
      "[Sat Jan 22 13:45:14 2022] 127.0.0.1:39952 Accepted\n",
      "[Sat Jan 22 13:45:14 2022] 127.0.0.1:39952 Closing\n",
      "[Sat Jan 22 13:45:16 2022] 127.0.0.1:39958 Accepted\n",
      "[Sat Jan 22 13:45:16 2022] 127.0.0.1:39958 Closing\n",
      "[Sat Jan 22 13:45:16 2022] 127.0.0.1:39962 Accepted\n",
      "[Sat Jan 22 13:45:16 2022] 127.0.0.1:39962 Closing\n",
      "[Sat Jan 22 13:45:16 2022] 127.0.0.1:39966 Accepted\n",
      "[Sat Jan 22 13:45:16 2022] 127.0.0.1:39966 Closing\n",
      "[Sat Jan 22 13:45:16 2022] 127.0.0.1:39972 Accepted\n",
      "[Sat Jan 22 13:45:16 2022] 127.0.0.1:39972 Closing\n",
      "[Sat Jan 22 13:45:16 2022] 127.0.0.1:39978 Accepted\n",
      "[Sat Jan 22 13:45:16 2022] 127.0.0.1:39978 Closing\n",
      "[Sat Jan 22 13:45:17 2022] 127.0.0.1:39984 Accepted\n",
      "[Sat Jan 22 13:45:17 2022] 127.0.0.1:39984 Closing\n",
      "[Sat Jan 22 13:45:17 2022] 127.0.0.1:39988 Accepted\n",
      "[Sat Jan 22 13:45:18 2022] 127.0.0.1:39988 Closing\n",
      "[Sat Jan 22 13:45:18 2022] 127.0.0.1:39992 Accepted\n",
      "[Sat Jan 22 13:45:18 2022] 127.0.0.1:39992 Closing\n",
      "[Sat Jan 22 13:45:18 2022] 127.0.0.1:39998 Accepted\n",
      "[Sat Jan 22 13:45:18 2022] 127.0.0.1:39998 Closing\n",
      "[Sat Jan 22 13:45:18 2022] 127.0.0.1:40004 Accepted\n",
      "[Sat Jan 22 13:45:18 2022] 127.0.0.1:40004 Closing\n",
      "[Sat Jan 22 13:45:18 2022] 127.0.0.1:40010 Accepted\n",
      "[Sat Jan 22 13:45:18 2022] 127.0.0.1:40010 Closing\n",
      "[Sat Jan 22 13:45:19 2022] 127.0.0.1:40016 Accepted\n",
      "[Sat Jan 22 13:45:19 2022] 127.0.0.1:40016 Closing\n",
      "[Sat Jan 22 13:45:19 2022] 127.0.0.1:40020 Accepted\n",
      "[Sat Jan 22 13:45:19 2022] 127.0.0.1:40020 Closing\n",
      "[Sat Jan 22 13:45:19 2022] 127.0.0.1:40024 Accepted\n",
      "[Sat Jan 22 13:45:20 2022] 127.0.0.1:40024 Closing\n",
      "[Sat Jan 22 13:45:20 2022] 127.0.0.1:40030 Accepted\n",
      "[Sat Jan 22 13:45:20 2022] 127.0.0.1:40030 Closing\n",
      "[Sat Jan 22 13:45:20 2022] 127.0.0.1:40036 Accepted\n",
      "[Sat Jan 22 13:45:20 2022] 127.0.0.1:40036 Closing\n",
      "[Sat Jan 22 13:45:20 2022] 127.0.0.1:40042 Accepted\n",
      "[Sat Jan 22 13:45:20 2022] 127.0.0.1:40042 Closing\n",
      "[Sat Jan 22 13:45:20 2022] 127.0.0.1:40048 Accepted\n",
      "[Sat Jan 22 13:45:20 2022] 127.0.0.1:40048 Closing\n"
     ]
    },
    {
     "name": "stdout",
     "output_type": "stream",
     "text": [
      "[Sat Jan 22 13:45:21 2022] 127.0.0.1:40058 Accepted\n",
      "[Sat Jan 22 13:45:21 2022] 127.0.0.1:40058 Closing\n",
      "[Sat Jan 22 13:45:21 2022] 127.0.0.1:40062 Accepted\n",
      "[Sat Jan 22 13:45:21 2022] 127.0.0.1:40062 Closing\n",
      "[Sat Jan 22 13:45:21 2022] 127.0.0.1:40066 Accepted\n",
      "[Sat Jan 22 13:45:22 2022] 127.0.0.1:40066 Closing\n",
      "[Sat Jan 22 13:45:22 2022] 127.0.0.1:40072 Accepted\n",
      "[Sat Jan 22 13:45:22 2022] 127.0.0.1:40072 Closing\n",
      "[Sat Jan 22 13:45:22 2022] 127.0.0.1:40078 Accepted\n",
      "[Sat Jan 22 13:45:22 2022] 127.0.0.1:40078 Closing\n",
      "[Sat Jan 22 13:45:22 2022] 127.0.0.1:40084 Accepted\n",
      "[Sat Jan 22 13:45:22 2022] 127.0.0.1:40084 Closing\n",
      "[Sat Jan 22 13:45:22 2022] 127.0.0.1:40090 Accepted\n",
      "[Sat Jan 22 13:45:22 2022] 127.0.0.1:40090 Closing\n",
      "[Sat Jan 22 13:45:23 2022] 127.0.0.1:40096 Accepted\n",
      "[Sat Jan 22 13:45:23 2022] 127.0.0.1:40096 Closing\n",
      "[Sat Jan 22 13:45:23 2022] 127.0.0.1:40100 Accepted\n",
      "[Sat Jan 22 13:45:23 2022] 127.0.0.1:40100 Closing\n",
      "[Sat Jan 22 13:45:23 2022] 127.0.0.1:40104 Accepted\n",
      "[Sat Jan 22 13:45:24 2022] 127.0.0.1:40104 Closing\n",
      "[Sat Jan 22 13:45:24 2022] 127.0.0.1:40110 Accepted\n",
      "[Sat Jan 22 13:45:24 2022] 127.0.0.1:40110 Closing\n",
      "[Sat Jan 22 13:45:24 2022] 127.0.0.1:40116 Accepted\n",
      "[Sat Jan 22 13:45:24 2022] 127.0.0.1:40116 Closing\n",
      "[Sat Jan 22 13:45:24 2022] 127.0.0.1:40122 Accepted\n",
      "[Sat Jan 22 13:45:24 2022] 127.0.0.1:40122 Closing\n",
      "[Sat Jan 22 13:45:24 2022] 127.0.0.1:40128 Accepted\n",
      "[Sat Jan 22 13:45:24 2022] 127.0.0.1:40128 Closing\n",
      "[Sat Jan 22 13:45:24 2022] 127.0.0.1:40134 Accepted\n",
      "[Sat Jan 22 13:45:24 2022] 127.0.0.1:40134 Closing\n",
      "[Sat Jan 22 13:45:24 2022] 127.0.0.1:40140 Accepted\n",
      "[Sat Jan 22 13:45:24 2022] 127.0.0.1:40140 Closing\n",
      "[Sat Jan 22 13:45:24 2022] 127.0.0.1:40146 Accepted\n",
      "[Sat Jan 22 13:45:24 2022] 127.0.0.1:40146 Closing\n",
      "[Sat Jan 22 13:45:24 2022] 127.0.0.1:40152 Accepted\n",
      "[Sat Jan 22 13:45:24 2022] 127.0.0.1:40152 Closing\n",
      "[Sat Jan 22 13:45:25 2022] 127.0.0.1:40158 Accepted\n",
      "[Sat Jan 22 13:45:25 2022] 127.0.0.1:40158 Closing\n",
      "[Sat Jan 22 13:45:25 2022] 127.0.0.1:40162 Accepted\n",
      "[Sat Jan 22 13:45:26 2022] 127.0.0.1:40162 Closing\n",
      "[Sat Jan 22 13:45:26 2022] 127.0.0.1:40166 Accepted\n",
      "[Sat Jan 22 13:45:26 2022] 127.0.0.1:40166 Closing\n",
      "[Sat Jan 22 13:45:26 2022] 127.0.0.1:40172 Accepted\n",
      "[Sat Jan 22 13:45:26 2022] 127.0.0.1:40172 Closing\n",
      "[Sat Jan 22 13:45:26 2022] 127.0.0.1:40178 Accepted\n",
      "[Sat Jan 22 13:45:26 2022] 127.0.0.1:40178 Closing\n",
      "[Sat Jan 22 13:45:26 2022] 127.0.0.1:40184 Accepted\n",
      "[Sat Jan 22 13:45:26 2022] 127.0.0.1:40184 Closing\n",
      "[Sat Jan 22 13:45:26 2022] 127.0.0.1:40190 Accepted\n",
      "[Sat Jan 22 13:45:26 2022] 127.0.0.1:40190 Closing\n",
      "[Sat Jan 22 13:45:26 2022] 127.0.0.1:40196 Accepted\n",
      "[Sat Jan 22 13:45:26 2022] 127.0.0.1:40196 Closing\n",
      "[Sat Jan 22 13:45:26 2022] 127.0.0.1:40202 Accepted\n",
      "[Sat Jan 22 13:45:26 2022] 127.0.0.1:40202 Closing\n",
      "[Sat Jan 22 13:45:26 2022] 127.0.0.1:40208 Accepted\n",
      "[Sat Jan 22 13:45:26 2022] 127.0.0.1:40208 Closing\n",
      "[Sat Jan 22 13:45:26 2022] 127.0.0.1:40214 Accepted\n",
      "[Sat Jan 22 13:45:26 2022] 127.0.0.1:40214 Closing\n",
      "[Sat Jan 22 13:45:26 2022] 127.0.0.1:40220 Accepted\n",
      "[Sat Jan 22 13:45:27 2022] 127.0.0.1:40220 Closing\n",
      "[Sat Jan 22 13:45:27 2022] 127.0.0.1:40226 Accepted\n",
      "[Sat Jan 22 13:45:27 2022] 127.0.0.1:40226 Closing\n",
      "[Sat Jan 22 13:45:27 2022] 127.0.0.1:40232 Accepted\n",
      "[Sat Jan 22 13:45:27 2022] 127.0.0.1:40232 Closing\n",
      "[Sat Jan 22 13:45:27 2022] 127.0.0.1:40238 Accepted\n",
      "[Sat Jan 22 13:45:27 2022] 127.0.0.1:40238 Closing\n",
      "[Sat Jan 22 13:45:28 2022] 127.0.0.1:40244 Accepted\n",
      "[Sat Jan 22 13:45:28 2022] 127.0.0.1:40244 Closing\n",
      "[Sat Jan 22 13:45:28 2022] 127.0.0.1:40248 Accepted\n",
      "[Sat Jan 22 13:45:28 2022] 127.0.0.1:40248 Closing\n",
      "[Sat Jan 22 13:45:28 2022] 127.0.0.1:40252 Accepted\n",
      "[Sat Jan 22 13:45:29 2022] 127.0.0.1:40252 Closing\n",
      "[Sat Jan 22 13:45:29 2022] 127.0.0.1:40258 Accepted\n",
      "[Sat Jan 22 13:45:29 2022] 127.0.0.1:40258 Closing\n",
      "[Sat Jan 22 13:45:29 2022] 127.0.0.1:40264 Accepted\n",
      "[Sat Jan 22 13:45:29 2022] 127.0.0.1:40264 Closing\n",
      "[Sat Jan 22 13:45:29 2022] 127.0.0.1:40270 Accepted\n",
      "[Sat Jan 22 13:45:29 2022] 127.0.0.1:40270 Closing\n",
      "[Sat Jan 22 13:45:29 2022] 127.0.0.1:40276 Accepted\n",
      "[Sat Jan 22 13:45:29 2022] 127.0.0.1:40276 Closing\n",
      "[Sat Jan 22 13:45:29 2022] 127.0.0.1:40282 Accepted\n",
      "[Sat Jan 22 13:45:29 2022] 127.0.0.1:40282 Closing\n",
      "[Sat Jan 22 13:45:29 2022] 127.0.0.1:40288 Accepted\n",
      "[Sat Jan 22 13:45:29 2022] 127.0.0.1:40288 Closing\n",
      "[Sat Jan 22 13:45:29 2022] 127.0.0.1:40294 Accepted\n",
      "[Sat Jan 22 13:45:29 2022] 127.0.0.1:40294 Closing\n",
      "[Sat Jan 22 13:45:29 2022] 127.0.0.1:40300 Accepted\n",
      "[Sat Jan 22 13:45:29 2022] 127.0.0.1:40300 Closing\n",
      "[Sat Jan 22 13:45:29 2022] 127.0.0.1:40306 Accepted\n",
      "[Sat Jan 22 13:45:29 2022] 127.0.0.1:40306 Closing\n",
      "[Sat Jan 22 13:45:29 2022] 127.0.0.1:40312 Accepted\n",
      "[Sat Jan 22 13:45:30 2022] 127.0.0.1:40312 Closing\n",
      "[Sat Jan 22 13:45:30 2022] 127.0.0.1:40318 Accepted\n",
      "[Sat Jan 22 13:45:30 2022] 127.0.0.1:40318 Closing\n",
      "[Sat Jan 22 13:45:30 2022] 127.0.0.1:40324 Accepted\n",
      "[Sat Jan 22 13:45:30 2022] 127.0.0.1:40324 Closing\n",
      "[Sat Jan 22 13:45:30 2022] 127.0.0.1:40330 Accepted\n",
      "[Sat Jan 22 13:45:30 2022] 127.0.0.1:40330 Closing\n",
      "[Sat Jan 22 13:45:30 2022] 127.0.0.1:40336 Accepted\n",
      "[Sat Jan 22 13:45:30 2022] 127.0.0.1:40336 Closing\n",
      "[Sat Jan 22 13:45:30 2022] 127.0.0.1:40340 Accepted\n",
      "[Sat Jan 22 13:45:30 2022] 127.0.0.1:40340 Closing\n",
      "[Sat Jan 22 13:45:30 2022] 127.0.0.1:40344 Accepted\n",
      "[Sat Jan 22 13:45:30 2022] 127.0.0.1:40344 Closing\n",
      "[Sat Jan 22 13:45:30 2022] 127.0.0.1:40348 Accepted\n",
      "[Sat Jan 22 13:45:30 2022] 127.0.0.1:40348 Closing\n",
      "[Sat Jan 22 13:45:32 2022] 127.0.0.1:40352 Accepted\n",
      "[Sat Jan 22 13:45:32 2022] 127.0.0.1:40352 Closing\n",
      "[Sat Jan 22 13:45:32 2022] 127.0.0.1:40356 Accepted\n",
      "[Sat Jan 22 13:45:32 2022] 127.0.0.1:40356 Closing\n",
      "[Sat Jan 22 13:45:32 2022] 127.0.0.1:40360 Accepted\n",
      "[Sat Jan 22 13:45:32 2022] 127.0.0.1:40360 Closing\n",
      "[Sat Jan 22 13:45:32 2022] 127.0.0.1:40366 Accepted\n",
      "[Sat Jan 22 13:45:32 2022] 127.0.0.1:40366 Closing\n",
      "[Sat Jan 22 13:45:32 2022] 127.0.0.1:40372 Accepted\n",
      "[Sat Jan 22 13:45:32 2022] 127.0.0.1:40372 Closing\n",
      "[Sat Jan 22 13:45:32 2022] 127.0.0.1:40378 Accepted\n",
      "[Sat Jan 22 13:45:32 2022] 127.0.0.1:40378 Closing\n",
      "[Sat Jan 22 13:45:32 2022] 127.0.0.1:40384 Accepted\n",
      "[Sat Jan 22 13:45:32 2022] 127.0.0.1:40384 Closing\n",
      "[Sat Jan 22 13:45:32 2022] 127.0.0.1:40390 Accepted\n",
      "[Sat Jan 22 13:45:33 2022] 127.0.0.1:40390 Closing\n",
      "2022-01-22 13:47:06,312 [ 561964]   WARN -    #com.jetbrains.php.PhpIndex - getBySignature recursion hit level 50 @ <<<#M#Vattributes.exceptProps>>> \n",
      "2022-01-22 13:47:06,312 [ 561964]   WARN -    #com.jetbrains.php.PhpIndex - getBySignature recursion hit level 50 @ <<<#π(#M#Vattributes.exceptProps)((\\int[])(\\string[]))>>> \n",
      "2022-01-22 13:47:06,313 [ 561965]   WARN -    #com.jetbrains.php.PhpIndex - getBySignature recursion hit level 50 @ <<<#π(#M#Vattributes.exceptProps)(#D\\false[])>>> \n",
      "2022-01-22 13:47:06,313 [ 561965]   WARN -    #com.jetbrains.php.PhpIndex - getBySignature recursion hit level 50 @ <<<#π(#M#Vattributes.exceptProps)(\\string[])>>> \n"
     ]
    }
   ],
   "source": [
    "! phpstorm ../project"
   ]
  },
  {
   "cell_type": "markdown",
   "metadata": {},
   "source": [
    "You can test your solution using included tests:"
   ]
  },
  {
   "cell_type": "code",
   "execution_count": 3,
   "metadata": {},
   "outputs": [
    {
     "name": "stdout",
     "output_type": "stream",
     "text": [
      "/home/student/php_2021_portfello/project\n"
     ]
    }
   ],
   "source": [
    "%cd project"
   ]
  },
  {
   "cell_type": "code",
   "execution_count": 4,
   "metadata": {},
   "outputs": [
    {
     "name": "stdout",
     "output_type": "stream",
     "text": [
      "\u001b[32mInstalling dependencies from lock file (including require-dev)\u001b[39m\n",
      "\u001b[32mVerifying lock file contents can be installed on current platform.\u001b[39m\n",
      "Nothing to install, update or remove\n",
      "\u001b[30;43mPackage swiftmailer/swiftmailer is abandoned, you should avoid using it. Use symfony/mailer instead.\u001b[39;49m\n",
      "\u001b[32mGenerating optimized autoload files\u001b[39m\n",
      "> Illuminate\\Foundation\\ComposerScripts::postAutoloadDump\n",
      "> @php artisan package:discover --ansi\n",
      "Discovered Package: \u001b[32mfacade/ignition\u001b[39m\n",
      "Discovered Package: \u001b[32mfruitcake/laravel-cors\u001b[39m\n",
      "Discovered Package: \u001b[32mintervention/image\u001b[39m\n",
      "Discovered Package: \u001b[32mlaravel/breeze\u001b[39m\n",
      "Discovered Package: \u001b[32mlaravel/sail\u001b[39m\n",
      "Discovered Package: \u001b[32mlaravel/sanctum\u001b[39m\n",
      "Discovered Package: \u001b[32mlaravel/tinker\u001b[39m\n",
      "Discovered Package: \u001b[32mnesbot/carbon\u001b[39m\n",
      "Discovered Package: \u001b[32mnunomaduro/collision\u001b[39m\n",
      "\u001b[32mPackage manifest generated successfully.\u001b[39m\n",
      "\u001b[32m82 packages you are using are looking for funding.\u001b[39m\n",
      "\u001b[32mUse the `composer fund` command to find out more!\u001b[39m\n"
     ]
    }
   ],
   "source": [
    "! composer install"
   ]
  },
  {
   "cell_type": "code",
   "execution_count": 5,
   "metadata": {},
   "outputs": [],
   "source": [
    "! cp .env.example .env"
   ]
  },
  {
   "cell_type": "code",
   "execution_count": 6,
   "metadata": {},
   "outputs": [
    {
     "name": "stdout",
     "output_type": "stream",
     "text": [
      "\u001b[32mApplication key set successfully.\u001b[39m\r\n"
     ]
    }
   ],
   "source": [
    "! php artisan key:generate"
   ]
  },
  {
   "cell_type": "code",
   "execution_count": 7,
   "metadata": {},
   "outputs": [
    {
     "name": "stdout",
     "output_type": "stream",
     "text": [
      "\u001b[32mDropped all tables successfully.\u001b[39m\n",
      "\u001b[32mMigration table created successfully.\u001b[39m\n",
      "\u001b[33mMigrating:\u001b[39m 2014_10_12_000000_create_users_table\n",
      "\u001b[32mMigrated:\u001b[39m  2014_10_12_000000_create_users_table (109.51ms)\n",
      "\u001b[33mMigrating:\u001b[39m 2014_10_12_100000_create_password_resets_table\n",
      "\u001b[32mMigrated:\u001b[39m  2014_10_12_100000_create_password_resets_table (50.24ms)\n",
      "\u001b[33mMigrating:\u001b[39m 2019_08_19_000000_create_failed_jobs_table\n",
      "\u001b[32mMigrated:\u001b[39m  2019_08_19_000000_create_failed_jobs_table (47.16ms)\n",
      "\u001b[33mMigrating:\u001b[39m 2019_12_14_000001_create_personal_access_tokens_table\n",
      "\u001b[32mMigrated:\u001b[39m  2019_12_14_000001_create_personal_access_tokens_table (123.34ms)\n",
      "\u001b[33mMigrating:\u001b[39m 2022_01_08_194834_create_groups_table\n",
      "\u001b[32mMigrated:\u001b[39m  2022_01_08_194834_create_groups_table (78.66ms)\n",
      "\u001b[33mMigrating:\u001b[39m 2022_01_08_195804_create_group_user_table\n",
      "\u001b[32mMigrated:\u001b[39m  2022_01_08_195804_create_group_user_table (701.28ms)\n",
      "\u001b[33mMigrating:\u001b[39m 2022_01_16_194545_create_invites_table\n",
      "\u001b[32mMigrated:\u001b[39m  2022_01_16_194545_create_invites_table (193.96ms)\n",
      "\u001b[33mMigrating:\u001b[39m 2022_01_21_005648_create_expenses_table\n",
      "\u001b[32mMigrated:\u001b[39m  2022_01_21_005648_create_expenses_table (158.90ms)\n",
      "\u001b[33mMigrating:\u001b[39m 2022_01_21_005840_create_expenses_histories_table\n",
      "\u001b[32mMigrated:\u001b[39m  2022_01_21_005840_create_expenses_histories_table (95.96ms)\n",
      "\u001b[33mMigrating:\u001b[39m 2022_01_21_010055_create_item_payment_table\n",
      "\u001b[32mMigrated:\u001b[39m  2022_01_21_010055_create_item_payment_table (200.65ms)\n",
      "\u001b[33mMigrating:\u001b[39m 2022_01_21_010248_create_expenses_user_table\n",
      "\u001b[32mMigrated:\u001b[39m  2022_01_21_010248_create_expenses_user_table (246.22ms)\n",
      "\u001b[33mMigrating:\u001b[39m 2022_01_21_010450_create_payment_table\n",
      "\u001b[32mMigrated:\u001b[39m  2022_01_21_010450_create_payment_table (417.96ms)\n"
     ]
    }
   ],
   "source": [
    "! php artisan migrate:fresh"
   ]
  },
  {
   "cell_type": "code",
   "execution_count": 8,
   "metadata": {},
   "outputs": [
    {
     "name": "stdout",
     "output_type": "stream",
     "text": [
      "\u001b[33mSeeding:\u001b[39m Database\\Seeders\\UserSeeder\n",
      "\u001b[32mSeeded:\u001b[39m  Database\\Seeders\\UserSeeder (1,066.59ms)\n",
      "\u001b[33mSeeding:\u001b[39m Database\\Seeders\\GroupSeeder\n",
      "\u001b[32mSeeded:\u001b[39m  Database\\Seeders\\GroupSeeder (222.94ms)\n",
      "\u001b[33mSeeding:\u001b[39m Database\\Seeders\\ExpenseSeeder\n",
      "\u001b[32mSeeded:\u001b[39m  Database\\Seeders\\ExpenseSeeder (224.34ms)\n",
      "\u001b[32mDatabase seeding completed successfully.\u001b[39m\n"
     ]
    }
   ],
   "source": [
    "! php artisan db:seed"
   ]
  },
  {
   "cell_type": "code",
   "execution_count": 9,
   "metadata": {},
   "outputs": [
    {
     "name": "stdout",
     "output_type": "stream",
     "text": [
      "mysqldump: [Warning] Using a password on the command line interface can be insecure.\r\n"
     ]
    }
   ],
   "source": [
    "! mysqldump -h127.0.0.1 -u root --password=root123 test > tests_codeception/_data/dump.sql"
   ]
  },
  {
   "cell_type": "code",
   "execution_count": 10,
   "metadata": {},
   "outputs": [
    {
     "name": "stdout",
     "output_type": "stream",
     "text": [
      "PHPUnit 9.5.11 by Sebastian Bergmann and contributors.\n",
      "\n",
      ".................                                                 17 / 17 (100%)\n",
      "\n",
      "Time: 00:05.258, Memory: 40.50 MB\n",
      "\n",
      "\u001b[30;42mOK (17 tests, 27 assertions)\u001b[0m\n"
     ]
    }
   ],
   "source": [
    "! vendor/bin/phpunit"
   ]
  },
  {
   "cell_type": "code",
   "execution_count": 11,
   "metadata": {},
   "outputs": [],
   "source": [
    "import subprocess\n",
    "artisanServe = subprocess.Popen(['php', 'artisan', 'serve', '--port', '8888'])"
   ]
  },
  {
   "cell_type": "code",
   "execution_count": 13,
   "metadata": {},
   "outputs": [
    {
     "name": "stdout",
     "output_type": "stream",
     "text": [
      "Starting Laravel development server: http://127.0.0.1:8888\n",
      "[Mon Jan  3 13:22:42 2022] PHP 8.0.10 Development Server (http://127.0.0.1:8888) started\n",
      "Codeception PHP Testing Framework v4.1.22\n",
      "Powered by PHPUnit 9.5.10 by Sebastian Bergmann and contributors.\n",
      "\n",
      "\u001b[1mAcceptance Tests (4) \u001b[22m-----------------------------------------------------------\n",
      "- \u001b[35;1m01_HomepageCept:\u001b[39;22m See Laravel links on homepage[Mon Jan  3 13:23:02 2022] 127.0.0.1:33318 Accepted\n",
      "[Mon Jan  3 13:23:03 2022] 127.0.0.1:33318 Closing\n",
      "\u001b[32;1m✔\u001b[39;22m \u001b[35;1m01_HomepageCept:\u001b[39;22m See Laravel links on homepage \u001b[32m(0.83s)\u001b[39m\n",
      "\u001b[32;1m✔\u001b[39;22m \u001b[35;1m02_CommentsCept:\u001b[39;22m See comments from DB displayed on page \u001b[32m(0.48s)\u001b[39m\n",
      "- \u001b[35;1m03_LoginCept:\u001b[39;22m Login with existing user[Mon Jan  3 13:23:17 2022] 127.0.0.1:33322 Accepted\n",
      "[Mon Jan  3 13:23:17 2022] 127.0.0.1:33322 Closing\n",
      "[Mon Jan  3 13:23:17 2022] 127.0.0.1:33328 Accepted\n",
      "[Mon Jan  3 13:23:18 2022] 127.0.0.1:33328 Closing\n",
      "[Mon Jan  3 13:23:22 2022] 127.0.0.1:33334 Accepted\n",
      "[Mon Jan  3 13:23:22 2022] 127.0.0.1:33334 Closing\n",
      "[Mon Jan  3 13:23:22 2022] 127.0.0.1:33338 Accepted\n",
      "[Mon Jan  3 13:23:22 2022] 127.0.0.1:33338 Closing\n",
      "[Mon Jan  3 13:23:22 2022] 127.0.0.1:33342 Accepted\n",
      "[Mon Jan  3 13:23:22 2022] 127.0.0.1:33342 Closing\n",
      "[Mon Jan  3 13:23:22 2022] 127.0.0.1:33348 Accepted\n",
      "\u001b[32;1m✔\u001b[39;22m \u001b[35;1m03_LoginCept:\u001b[39;22m Login with existing user \u001b[32m(1.02s)\u001b[39m\n",
      "- \u001b[35;1m04_BooksCept:\u001b[39;22m Have books page[Mon Jan  3 13:23:23 2022] 127.0.0.1:33348 Closing\n",
      "[Mon Jan  3 13:23:30 2022] 127.0.0.1:33358 Accepted\n",
      "[Mon Jan  3 13:23:31 2022] 127.0.0.1:33358 Closing\n",
      "[Mon Jan  3 13:23:31 2022] 127.0.0.1:33362 Accepted\n",
      "[Mon Jan  3 13:23:31 2022] 127.0.0.1:33362 Closing\n",
      "[Mon Jan  3 13:23:31 2022] 127.0.0.1:33366 Accepted\n",
      "[Mon Jan  3 13:23:31 2022] 127.0.0.1:33366 Closing\n",
      "[Mon Jan  3 13:23:31 2022] 127.0.0.1:33372 Accepted\n",
      "[Mon Jan  3 13:23:31 2022] 127.0.0.1:33372 Closing\n",
      "[Mon Jan  3 13:23:31 2022] 127.0.0.1:33378 Accepted\n",
      "[Mon Jan  3 13:23:31 2022] 127.0.0.1:33378 Closing\n",
      "[Mon Jan  3 13:23:31 2022] 127.0.0.1:33384 Accepted\n",
      "[Mon Jan  3 13:23:32 2022] 127.0.0.1:33384 Closing\n",
      "[Mon Jan  3 13:23:32 2022] 127.0.0.1:33390 Accepted\n",
      "[Mon Jan  3 13:23:32 2022] 127.0.0.1:33390 Closing\n",
      "[Mon Jan  3 13:23:32 2022] 127.0.0.1:33396 Accepted\n",
      "[Mon Jan  3 13:23:32 2022] 127.0.0.1:33396 Closing\n",
      "[Mon Jan  3 13:23:32 2022] 127.0.0.1:33402 Accepted\n",
      "[Mon Jan  3 13:23:32 2022] 127.0.0.1:33402 Closing\n",
      "[Mon Jan  3 13:23:32 2022] 127.0.0.1:33408 Accepted\n",
      "[Mon Jan  3 13:23:33 2022] 127.0.0.1:33408 Closing\n",
      "[Mon Jan  3 13:23:33 2022] 127.0.0.1:33414 Accepted\n",
      "[Mon Jan  3 13:23:33 2022] 127.0.0.1:33414 Closing\n",
      "[Mon Jan  3 13:23:33 2022] 127.0.0.1:33420 Accepted\n",
      "[Mon Jan  3 13:23:33 2022] 127.0.0.1:33420 Closing\n",
      "[Mon Jan  3 13:23:33 2022] 127.0.0.1:33426 Accepted\n",
      "[Mon Jan  3 13:23:34 2022] 127.0.0.1:33426 Closing\n",
      "[Mon Jan  3 13:23:34 2022] 127.0.0.1:33432 Accepted\n",
      "[Mon Jan  3 13:23:34 2022] 127.0.0.1:33432 Closing\n",
      "[Mon Jan  3 13:23:34 2022] 127.0.0.1:33438 Accepted\n",
      "[Mon Jan  3 13:23:34 2022] 127.0.0.1:33438 Closing\n",
      "[Mon Jan  3 13:23:34 2022] 127.0.0.1:33444 Accepted\n",
      "[Mon Jan  3 13:23:34 2022] 127.0.0.1:33444 Closing\n",
      "[Mon Jan  3 13:23:34 2022] 127.0.0.1:33450 Accepted\n",
      "[Mon Jan  3 13:23:35 2022] 127.0.0.1:33450 Closing\n",
      "[Mon Jan  3 13:23:35 2022] 127.0.0.1:33456 Accepted\n",
      "[Mon Jan  3 13:23:35 2022] 127.0.0.1:33456 Closing\n",
      "[Mon Jan  3 13:23:35 2022] 127.0.0.1:33462 Accepted\n",
      "[Mon Jan  3 13:23:35 2022] 127.0.0.1:33462 Closing\n",
      "[Mon Jan  3 13:23:35 2022] 127.0.0.1:33468 Accepted\n",
      "\u001b[32;1m✔\u001b[39;22m \u001b[35;1m04_BooksCept:\u001b[39;22m Have books page \u001b[32m(4.87s)\u001b[39m\n",
      "--------------------------------------------------------------------------------\n",
      "\u001b[33m20x DEPRECATION: \u001b[39m\u001b[1mSince symfony/dom-crawler 5.3: The Symfony\\Component\\DomCrawler\\Crawler::parents() method is deprecated, use ancestors() instead.\u001b[22m\u001b[33m \u001b[39m\u001b[32m/home/student/php_2021_jakub_machalica/10_laravel_tdd/project/vendor/symfony/deprecation-contracts/function.php:25\u001b[39m\n",
      "\n",
      "\n",
      "Time: 00:52.120, Memory: 14.00 MB\n",
      "\n",
      "\u001b[30;42mOK (4 tests, 52 assertions)\u001b[0m\n",
      "[Mon Jan  3 13:23:35 2022] 127.0.0.1:33468 Closing\n"
     ]
    }
   ],
   "source": [
    "! vendor/bin/codecept run"
   ]
  },
  {
   "cell_type": "code",
   "execution_count": null,
   "metadata": {},
   "outputs": [],
   "source": [
    "! killall php php8.0"
   ]
  },
  {
   "cell_type": "code",
   "execution_count": 49,
   "metadata": {},
   "outputs": [
    {
     "name": "stdout",
     "output_type": "stream",
     "text": [
      "/home/student/portfello\n"
     ]
    }
   ],
   "source": [
    "%cd .."
   ]
  },
  {
   "cell_type": "markdown",
   "metadata": {},
   "source": [
    "Stop database:"
   ]
  },
  {
   "cell_type": "code",
   "execution_count": 34,
   "metadata": {},
   "outputs": [
    {
     "name": "stdout",
     "output_type": "stream",
     "text": [
      "mysql\r\n"
     ]
    }
   ],
   "source": [
    "! sudo docker container stop mysql"
   ]
  }
 ],
 "metadata": {
  "kernelspec": {
   "display_name": "Python 3 (ipykernel)",
   "language": "python",
   "name": "python3"
  },
  "language_info": {
   "codemirror_mode": {
    "name": "ipython",
    "version": 3
   },
   "file_extension": ".py",
   "mimetype": "text/x-python",
   "name": "python",
   "nbconvert_exporter": "python",
   "pygments_lexer": "ipython3",
   "version": "3.9.5"
  }
 },
 "nbformat": 4,
 "nbformat_minor": 4
}
